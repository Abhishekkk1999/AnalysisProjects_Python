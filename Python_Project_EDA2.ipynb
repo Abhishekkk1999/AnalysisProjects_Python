{
 "cells": [
  {
   "cell_type": "markdown",
   "id": "171c0ce0",
   "metadata": {},
   "source": [
    "# EDA & Data Preprocessing on Google App Store Rating Dataset"
   ]
  },
  {
   "cell_type": "markdown",
   "id": "5b6f9acf",
   "metadata": {},
   "source": [
    "# 1. Import required libraries and read the dataset."
   ]
  },
  {
   "cell_type": "code",
   "execution_count": 1,
   "id": "9c2f8607",
   "metadata": {},
   "outputs": [],
   "source": [
    "import numpy as np  \n",
    "import pandas as pd  \n",
    "import seaborn as sns  \n",
    "import matplotlib.pyplot as plt  "
   ]
  },
  {
   "cell_type": "code",
   "execution_count": 2,
   "id": "1b2097a4",
   "metadata": {},
   "outputs": [],
   "source": [
    "df = pd.read_csv('Apps_data+(1).csv')"
   ]
  },
  {
   "cell_type": "code",
   "execution_count": 3,
   "id": "9bc5be95",
   "metadata": {},
   "outputs": [
    {
     "name": "stdout",
     "output_type": "stream",
     "text": [
      "                                                     App             Category  \\\n",
      "0         Photo Editor & Candy Camera & Grid & ScrapBook       ART_AND_DESIGN   \n",
      "1                                    Coloring book moana       ART_AND_DESIGN   \n",
      "2      U Launcher Lite – FREE Live Cool Themes, Hide ...       ART_AND_DESIGN   \n",
      "3                                  Sketch - Draw & Paint       ART_AND_DESIGN   \n",
      "4                  Pixel Draw - Number Art Coloring Book       ART_AND_DESIGN   \n",
      "...                                                  ...                  ...   \n",
      "10836                                   Sya9a Maroc - FR               FAMILY   \n",
      "10837                   Fr. Mike Schmitz Audio Teachings               FAMILY   \n",
      "10838                             Parkinson Exercices FR              MEDICAL   \n",
      "10839                      The SCP Foundation DB fr nn5n  BOOKS_AND_REFERENCE   \n",
      "10840      iHoroscope - 2018 Daily Horoscope & Astrology            LIFESTYLE   \n",
      "\n",
      "       Rating Reviews                Size     Installs  Type Price  \\\n",
      "0         4.1     159                 19M      10,000+  Free     0   \n",
      "1         3.9     967                 14M     500,000+  Free     0   \n",
      "2         4.7   87510                8.7M   5,000,000+  Free     0   \n",
      "3         4.5  215644                 25M  50,000,000+  Free     0   \n",
      "4         4.3     967                2.8M     100,000+  Free     0   \n",
      "...       ...     ...                 ...          ...   ...   ...   \n",
      "10836     4.5      38                 53M       5,000+  Free     0   \n",
      "10837     5.0       4                3.6M         100+  Free     0   \n",
      "10838     NaN       3                9.5M       1,000+  Free     0   \n",
      "10839     4.5     114  Varies with device       1,000+  Free     0   \n",
      "10840     4.5  398307                 19M  10,000,000+  Free     0   \n",
      "\n",
      "      Content Rating                     Genres      Last Updated  \\\n",
      "0           Everyone               Art & Design   January 7, 2018   \n",
      "1           Everyone  Art & Design;Pretend Play  January 15, 2018   \n",
      "2           Everyone               Art & Design    August 1, 2018   \n",
      "3               Teen               Art & Design      June 8, 2018   \n",
      "4           Everyone    Art & Design;Creativity     June 20, 2018   \n",
      "...              ...                        ...               ...   \n",
      "10836       Everyone                  Education     July 25, 2017   \n",
      "10837       Everyone                  Education      July 6, 2018   \n",
      "10838       Everyone                    Medical  January 20, 2017   \n",
      "10839     Mature 17+          Books & Reference  January 19, 2015   \n",
      "10840       Everyone                  Lifestyle     July 25, 2018   \n",
      "\n",
      "              Current Ver         Android Ver  \n",
      "0                   1.0.0        4.0.3 and up  \n",
      "1                   2.0.0        4.0.3 and up  \n",
      "2                   1.2.4        4.0.3 and up  \n",
      "3      Varies with device          4.2 and up  \n",
      "4                     1.1          4.4 and up  \n",
      "...                   ...                 ...  \n",
      "10836                1.48          4.1 and up  \n",
      "10837                 1.0          4.1 and up  \n",
      "10838                 1.0          2.2 and up  \n",
      "10839  Varies with device  Varies with device  \n",
      "10840  Varies with device  Varies with device  \n",
      "\n",
      "[10841 rows x 13 columns]\n"
     ]
    }
   ],
   "source": [
    "print(df)"
   ]
  },
  {
   "cell_type": "markdown",
   "id": "25b1b3f9",
   "metadata": {},
   "source": [
    "2.Check the first few samples, shape, info of the data and try to familiarize yourself with different features."
   ]
  },
  {
   "cell_type": "code",
   "execution_count": 4,
   "id": "57f0a7fd",
   "metadata": {},
   "outputs": [
    {
     "name": "stdout",
     "output_type": "stream",
     "text": [
      "First few samples of the dataset:\n",
      "                                                 App        Category  Rating  \\\n",
      "0     Photo Editor & Candy Camera & Grid & ScrapBook  ART_AND_DESIGN     4.1   \n",
      "1                                Coloring book moana  ART_AND_DESIGN     3.9   \n",
      "2  U Launcher Lite – FREE Live Cool Themes, Hide ...  ART_AND_DESIGN     4.7   \n",
      "3                              Sketch - Draw & Paint  ART_AND_DESIGN     4.5   \n",
      "4              Pixel Draw - Number Art Coloring Book  ART_AND_DESIGN     4.3   \n",
      "\n",
      "  Reviews  Size     Installs  Type Price Content Rating  \\\n",
      "0     159   19M      10,000+  Free     0       Everyone   \n",
      "1     967   14M     500,000+  Free     0       Everyone   \n",
      "2   87510  8.7M   5,000,000+  Free     0       Everyone   \n",
      "3  215644   25M  50,000,000+  Free     0           Teen   \n",
      "4     967  2.8M     100,000+  Free     0       Everyone   \n",
      "\n",
      "                      Genres      Last Updated         Current Ver  \\\n",
      "0               Art & Design   January 7, 2018               1.0.0   \n",
      "1  Art & Design;Pretend Play  January 15, 2018               2.0.0   \n",
      "2               Art & Design    August 1, 2018               1.2.4   \n",
      "3               Art & Design      June 8, 2018  Varies with device   \n",
      "4    Art & Design;Creativity     June 20, 2018                 1.1   \n",
      "\n",
      "    Android Ver  \n",
      "0  4.0.3 and up  \n",
      "1  4.0.3 and up  \n",
      "2  4.0.3 and up  \n",
      "3    4.2 and up  \n",
      "4    4.4 and up  \n",
      "\n",
      "Shape of the dataset:\n",
      "(10841, 13)\n",
      "\n",
      "Information about the dataset:\n",
      "<class 'pandas.core.frame.DataFrame'>\n",
      "RangeIndex: 10841 entries, 0 to 10840\n",
      "Data columns (total 13 columns):\n",
      " #   Column          Non-Null Count  Dtype  \n",
      "---  ------          --------------  -----  \n",
      " 0   App             10841 non-null  object \n",
      " 1   Category        10841 non-null  object \n",
      " 2   Rating          9367 non-null   float64\n",
      " 3   Reviews         10841 non-null  object \n",
      " 4   Size            10841 non-null  object \n",
      " 5   Installs        10841 non-null  object \n",
      " 6   Type            10840 non-null  object \n",
      " 7   Price           10841 non-null  object \n",
      " 8   Content Rating  10840 non-null  object \n",
      " 9   Genres          10841 non-null  object \n",
      " 10  Last Updated    10841 non-null  object \n",
      " 11  Current Ver     10833 non-null  object \n",
      " 12  Android Ver     10838 non-null  object \n",
      "dtypes: float64(1), object(12)\n",
      "memory usage: 1.1+ MB\n",
      "None\n"
     ]
    }
   ],
   "source": [
    "# Display the first few samples of the data\n",
    "print(\"First few samples of the dataset:\")\n",
    "print(df.head())\n",
    "\n",
    "# Display the shape of the dataset\n",
    "print(\"\\nShape of the dataset:\")\n",
    "print(df.shape)\n",
    "\n",
    "# Display information about the dataset, including data types and missing values\n",
    "print(\"\\nInformation about the dataset:\")\n",
    "print(df.info())"
   ]
  },
  {
   "cell_type": "markdown",
   "id": "c87f86d7",
   "metadata": {},
   "source": [
    "3.Check summary statistics of the dataset. List out the columns that need to be worked upon for model building.\n"
   ]
  },
  {
   "cell_type": "code",
   "execution_count": 5,
   "id": "5e093e51",
   "metadata": {},
   "outputs": [
    {
     "name": "stdout",
     "output_type": "stream",
     "text": [
      "Summary statistics of the dataset:\n",
      "            Rating\n",
      "count  9367.000000\n",
      "mean      4.193338\n",
      "std       0.537431\n",
      "min       1.000000\n",
      "25%       4.000000\n",
      "50%       4.300000\n",
      "75%       4.500000\n",
      "max      19.000000\n",
      "\n",
      "Missing values in each column:\n",
      "App                  0\n",
      "Category             0\n",
      "Rating            1474\n",
      "Reviews              0\n",
      "Size                 0\n",
      "Installs             0\n",
      "Type                 1\n",
      "Price                0\n",
      "Content Rating       1\n",
      "Genres               0\n",
      "Last Updated         0\n",
      "Current Ver          8\n",
      "Android Ver          3\n",
      "dtype: int64\n"
     ]
    }
   ],
   "source": [
    "# Display summary statistics of the dataset\n",
    "print(\"Summary statistics of the dataset:\")\n",
    "print(df.describe())\n",
    "\n",
    "# Check for missing values in each column\n",
    "print(\"\\nMissing values in each column:\")\n",
    "print(df.isnull().sum())\n"
   ]
  },
  {
   "cell_type": "markdown",
   "id": "46759519",
   "metadata": {},
   "source": [
    "4.Check if there are any duplicate records in the dataset? if any drop them"
   ]
  },
  {
   "cell_type": "code",
   "execution_count": 6,
   "id": "14973661",
   "metadata": {},
   "outputs": [
    {
     "name": "stdout",
     "output_type": "stream",
     "text": [
      "Number of duplicate records: 483\n",
      "Shape of the dataset after removing duplicates: (10358, 13)\n"
     ]
    }
   ],
   "source": [
    "# Check for duplicate records\n",
    "duplicates = df.duplicated()\n",
    "\n",
    "# Display the number of duplicate records\n",
    "print(\"Number of duplicate records:\", duplicates.sum())\n",
    "\n",
    "# Drop duplicate records\n",
    "dataset_no_duplicates = df.drop_duplicates()\n",
    "\n",
    "# Display the shape of the dataset after removing duplicates\n",
    "print(\"Shape of the dataset after removing duplicates:\", dataset_no_duplicates.shape)\n"
   ]
  },
  {
   "cell_type": "markdown",
   "id": "5ac7c6c3",
   "metadata": {},
   "source": [
    "5.Check the unique categories of the column 'Category', Is there any invalid category? If yes, drop them."
   ]
  },
  {
   "cell_type": "code",
   "execution_count": 7,
   "id": "e9f94a86",
   "metadata": {},
   "outputs": [
    {
     "name": "stdout",
     "output_type": "stream",
     "text": [
      "Unique categories in the 'Category' column:\n",
      "['ART_AND_DESIGN' 'AUTO_AND_VEHICLES' 'BEAUTY' 'BOOKS_AND_REFERENCE'\n",
      " 'BUSINESS' 'COMICS' 'COMMUNICATION' 'DATING' 'EDUCATION' 'ENTERTAINMENT'\n",
      " 'EVENTS' 'FINANCE' 'FOOD_AND_DRINK' 'HEALTH_AND_FITNESS' 'HOUSE_AND_HOME'\n",
      " 'LIBRARIES_AND_DEMO' 'LIFESTYLE' 'GAME' 'FAMILY' 'MEDICAL' 'SOCIAL'\n",
      " 'SHOPPING' 'PHOTOGRAPHY' 'SPORTS' 'TRAVEL_AND_LOCAL' 'TOOLS'\n",
      " 'PERSONALIZATION' 'PRODUCTIVITY' 'PARENTING' 'WEATHER' 'VIDEO_PLAYERS'\n",
      " 'NEWS_AND_MAGAZINES' 'MAPS_AND_NAVIGATION' '1.9']\n"
     ]
    }
   ],
   "source": [
    "# Check unique categories in the 'Category' column\n",
    "unique_categories = df['Category'].unique()\n",
    "\n",
    "# Display the unique categories\n",
    "print(\"Unique categories in the 'Category' column:\")\n",
    "print(unique_categories)"
   ]
  },
  {
   "cell_type": "code",
   "execution_count": 8,
   "id": "4b57ed86",
   "metadata": {},
   "outputs": [],
   "source": [
    "# Specify the list of valid categories\n",
    "valid_categories = ['ART_AND_DESIGN' 'AUTO_AND_VEHICLES' 'BEAUTY' 'BOOKS_AND_REFERENCE'\n",
    " 'BUSINESS' 'COMICS' 'COMMUNICATION' 'DATING' 'EDUCATION' 'ENTERTAINMENT'\n",
    " 'EVENTS' 'FINANCE' 'FOOD_AND_DRINK' 'HEALTH_AND_FITNESS' 'HOUSE_AND_HOME'\n",
    " 'LIBRARIES_AND_DEMO' 'LIFESTYLE' 'GAME' 'FAMILY' 'MEDICAL' 'SOCIAL'\n",
    " 'SHOPPING' 'PHOTOGRAPHY' 'SPORTS' 'TRAVEL_AND_LOCAL' 'TOOLS'\n",
    " 'PERSONALIZATION' 'PRODUCTIVITY' 'PARENTING' 'WEATHER' 'VIDEO_PLAYERS'\n",
    " 'NEWS_AND_MAGAZINES' 'MAPS_AND_NAVIGATION']"
   ]
  },
  {
   "cell_type": "code",
   "execution_count": 9,
   "id": "c820781e",
   "metadata": {},
   "outputs": [],
   "source": [
    "# Filter out rows with invalid categories\n",
    "dataset_valid_categories = df[df['Category'].isin(valid_categories)]\n"
   ]
  },
  {
   "cell_type": "code",
   "execution_count": 10,
   "id": "419be6c1",
   "metadata": {},
   "outputs": [
    {
     "name": "stdout",
     "output_type": "stream",
     "text": [
      "\n",
      "Shape of the dataset after filtering invalid categories: (0, 13)\n"
     ]
    }
   ],
   "source": [
    "# Display the shape of the dataset after filtering invalid categories\n",
    "print(\"\\nShape of the dataset after filtering invalid categories:\", dataset_valid_categories.shape)"
   ]
  },
  {
   "cell_type": "markdown",
   "id": "cebe2de9",
   "metadata": {},
   "source": [
    "6.Check if there are missing values present in the column Rating, If any? drop them and and create a new column as 'Rating_category' by converting ratings to high and low categories(>3.5 is high rest low) (3 marks)"
   ]
  },
  {
   "cell_type": "code",
   "execution_count": 11,
   "id": "7667bb44",
   "metadata": {},
   "outputs": [
    {
     "name": "stdout",
     "output_type": "stream",
     "text": [
      "Number of missing values in the 'Rating' column: 1474\n",
      "\n",
      "Updated dataset with the 'Rating_category' column:\n",
      "                                                 App        Category  Rating  \\\n",
      "0     Photo Editor & Candy Camera & Grid & ScrapBook  ART_AND_DESIGN     4.1   \n",
      "1                                Coloring book moana  ART_AND_DESIGN     3.9   \n",
      "2  U Launcher Lite – FREE Live Cool Themes, Hide ...  ART_AND_DESIGN     4.7   \n",
      "3                              Sketch - Draw & Paint  ART_AND_DESIGN     4.5   \n",
      "4              Pixel Draw - Number Art Coloring Book  ART_AND_DESIGN     4.3   \n",
      "\n",
      "  Reviews  Size     Installs  Type Price Content Rating  \\\n",
      "0     159   19M      10,000+  Free     0       Everyone   \n",
      "1     967   14M     500,000+  Free     0       Everyone   \n",
      "2   87510  8.7M   5,000,000+  Free     0       Everyone   \n",
      "3  215644   25M  50,000,000+  Free     0           Teen   \n",
      "4     967  2.8M     100,000+  Free     0       Everyone   \n",
      "\n",
      "                      Genres      Last Updated         Current Ver  \\\n",
      "0               Art & Design   January 7, 2018               1.0.0   \n",
      "1  Art & Design;Pretend Play  January 15, 2018               2.0.0   \n",
      "2               Art & Design    August 1, 2018               1.2.4   \n",
      "3               Art & Design      June 8, 2018  Varies with device   \n",
      "4    Art & Design;Creativity     June 20, 2018                 1.1   \n",
      "\n",
      "    Android Ver Rating_category  \n",
      "0  4.0.3 and up            High  \n",
      "1  4.0.3 and up            High  \n",
      "2  4.0.3 and up            High  \n",
      "3    4.2 and up            High  \n",
      "4    4.4 and up            High  \n"
     ]
    },
    {
     "name": "stderr",
     "output_type": "stream",
     "text": [
      "C:\\Users\\abhis\\AppData\\Local\\Temp\\ipykernel_10060\\950728667.py:9: SettingWithCopyWarning: \n",
      "A value is trying to be set on a copy of a slice from a DataFrame.\n",
      "Try using .loc[row_indexer,col_indexer] = value instead\n",
      "\n",
      "See the caveats in the documentation: https://pandas.pydata.org/pandas-docs/stable/user_guide/indexing.html#returning-a-view-versus-a-copy\n",
      "  dataset_no_missing_ratings['Rating_category'] = np.where(dataset_no_missing_ratings['Rating'] > 3.5, 'High', 'Low')\n"
     ]
    }
   ],
   "source": [
    "# Check for missing values in the 'Rating' column\n",
    "missing_values = df['Rating'].isnull().sum()\n",
    "print(\"Number of missing values in the 'Rating' column:\", missing_values)\n",
    "\n",
    "# Drop rows with missing values in the 'Rating' column\n",
    "dataset_no_missing_ratings = df.dropna(subset=['Rating'])\n",
    "\n",
    "# Create a new column 'Rating_category' based on the specified criteria\n",
    "dataset_no_missing_ratings['Rating_category'] = np.where(dataset_no_missing_ratings['Rating'] > 3.5, 'High', 'Low')\n",
    "\n",
    "# Display the updated dataset with the new 'Rating_category' column\n",
    "print(\"\\nUpdated dataset with the 'Rating_category' column:\")\n",
    "print(dataset_no_missing_ratings.head())\n"
   ]
  },
  {
   "cell_type": "markdown",
   "id": "cd78c23f",
   "metadata": {},
   "source": [
    "7.Check the distribution of the newly created column 'Rating_category' and comment on the distribution."
   ]
  },
  {
   "cell_type": "code",
   "execution_count": 12,
   "id": "d80fc107",
   "metadata": {},
   "outputs": [
    {
     "name": "stdout",
     "output_type": "stream",
     "text": [
      "Distribution of 'Rating_category':\n",
      "Rating_category\n",
      "High    8471\n",
      "Low      896\n",
      "Name: count, dtype: int64\n"
     ]
    },
    {
     "data": {
      "image/png": "[encoded data removed]",
      "text/plain": [
       "<Figure size 640x480 with 1 Axes>"
      ]
     },
     "metadata": {},
     "output_type": "display_data"
    }
   ],
   "source": [
    "# Check the distribution of the 'Rating_category' column\n",
    "rating_category_distribution = dataset_no_missing_ratings['Rating_category'].value_counts()\n",
    "\n",
    "# Display the distribution\n",
    "print(\"Distribution of 'Rating_category':\")\n",
    "print(rating_category_distribution)\n",
    "\n",
    "# Plot a bar chart for better visualization (optional)\n",
    "sns.countplot(x='Rating_category', data=dataset_no_missing_ratings)\n",
    "plt.title('Distribution of Rating Categories')\n",
    "plt.show()\n"
   ]
  },
  {
   "cell_type": "markdown",
   "id": "1f248eaf",
   "metadata": {},
   "source": [
    "8. Convert the column \"Reviews'' to numeric data type and check the presence of outliers in the column and handle the outliers using a transformation approach.(Hint: Use log transformation) (2 marks) "
   ]
  },
  {
   "cell_type": "code",
   "execution_count": 13,
   "id": "86d09b5a",
   "metadata": {},
   "outputs": [
    {
     "name": "stderr",
     "output_type": "stream",
     "text": [
      "C:\\Users\\abhis\\AppData\\Local\\Temp\\ipykernel_10060\\2563876244.py:2: SettingWithCopyWarning: \n",
      "A value is trying to be set on a copy of a slice from a DataFrame.\n",
      "Try using .loc[row_indexer,col_indexer] = value instead\n",
      "\n",
      "See the caveats in the documentation: https://pandas.pydata.org/pandas-docs/stable/user_guide/indexing.html#returning-a-view-versus-a-copy\n",
      "  dataset_no_missing_ratings['Reviews'] = pd.to_numeric(dataset_no_missing_ratings['Reviews'], errors='coerce')\n"
     ]
    },
    {
     "data": {
      "image/png": "[encoded data removed]",
      "text/plain": [
       "<Figure size 640x480 with 1 Axes>"
      ]
     },
     "metadata": {},
     "output_type": "display_data"
    },
    {
     "name": "stderr",
     "output_type": "stream",
     "text": [
      "C:\\Users\\abhis\\AppData\\Local\\Temp\\ipykernel_10060\\2563876244.py:10: SettingWithCopyWarning: \n",
      "A value is trying to be set on a copy of a slice from a DataFrame.\n",
      "Try using .loc[row_indexer,col_indexer] = value instead\n",
      "\n",
      "See the caveats in the documentation: https://pandas.pydata.org/pandas-docs/stable/user_guide/indexing.html#returning-a-view-versus-a-copy\n",
      "  dataset_no_missing_ratings['Reviews_log'] = np.log1p(dataset_no_missing_ratings['Reviews'])\n"
     ]
    },
    {
     "data": {
      "image/png": "[encoded data removed]",
      "text/plain": [
       "<Figure size 640x480 with 1 Axes>"
      ]
     },
     "metadata": {},
     "output_type": "display_data"
    }
   ],
   "source": [
    "# Convert the 'Reviews' column to numeric data type\n",
    "dataset_no_missing_ratings['Reviews'] = pd.to_numeric(dataset_no_missing_ratings['Reviews'], errors='coerce')\n",
    "\n",
    "# Check for the presence of outliers in the 'Reviews' column\n",
    "sns.boxplot(x=dataset_no_missing_ratings['Reviews'])\n",
    "plt.title('Boxplot of Reviews')\n",
    "plt.show()\n",
    "\n",
    "# Handle outliers using log transformation\n",
    "dataset_no_missing_ratings['Reviews_log'] = np.log1p(dataset_no_missing_ratings['Reviews'])\n",
    "\n",
    "# Check the distribution of the log-transformed 'Reviews' column\n",
    "sns.boxplot(x=dataset_no_missing_ratings['Reviews_log'])\n",
    "plt.title('Boxplot of Log-transformed Reviews')\n",
    "plt.show()\n"
   ]
  },
  {
   "cell_type": "markdown",
   "id": "9e07a544",
   "metadata": {},
   "source": [
    "9.The column 'Size' contains alphanumeric values, treat the non numeric data and convert the column into suitable data type. (hint: Replace M with 1 million and K with 1 thousand, and drop the entries where size='Varies with device') (3 marks)"
   ]
  },
  {
   "cell_type": "code",
   "execution_count": 14,
   "id": "cee4db2e",
   "metadata": {},
   "outputs": [
    {
     "name": "stdout",
     "output_type": "stream",
     "text": [
      "Updated dataset after treating the 'Size' column:\n",
      "                                                 App        Category  Rating  \\\n",
      "0     Photo Editor & Candy Camera & Grid & ScrapBook  ART_AND_DESIGN     4.1   \n",
      "1                                Coloring book moana  ART_AND_DESIGN     3.9   \n",
      "2  U Launcher Lite – FREE Live Cool Themes, Hide ...  ART_AND_DESIGN     4.7   \n",
      "3                              Sketch - Draw & Paint  ART_AND_DESIGN     4.5   \n",
      "4              Pixel Draw - Number Art Coloring Book  ART_AND_DESIGN     4.3   \n",
      "\n",
      "    Reviews        Size     Installs  Type Price Content Rating  \\\n",
      "0     159.0  19000000.0      10,000+  Free     0       Everyone   \n",
      "1     967.0  14000000.0     500,000+  Free     0       Everyone   \n",
      "2   87510.0   8700000.0   5,000,000+  Free     0       Everyone   \n",
      "3  215644.0  25000000.0  50,000,000+  Free     0           Teen   \n",
      "4     967.0   2800000.0     100,000+  Free     0       Everyone   \n",
      "\n",
      "                      Genres      Last Updated         Current Ver  \\\n",
      "0               Art & Design   January 7, 2018               1.0.0   \n",
      "1  Art & Design;Pretend Play  January 15, 2018               2.0.0   \n",
      "2               Art & Design    August 1, 2018               1.2.4   \n",
      "3               Art & Design      June 8, 2018  Varies with device   \n",
      "4    Art & Design;Creativity     June 20, 2018                 1.1   \n",
      "\n",
      "    Android Ver Rating_category  Reviews_log  \n",
      "0  4.0.3 and up            High     5.075174  \n",
      "1  4.0.3 and up            High     6.875232  \n",
      "2  4.0.3 and up            High    11.379520  \n",
      "3    4.2 and up            High    12.281389  \n",
      "4    4.4 and up            High     6.875232  \n"
     ]
    },
    {
     "name": "stderr",
     "output_type": "stream",
     "text": [
      "C:\\Users\\abhis\\AppData\\Local\\Temp\\ipykernel_10060\\154685743.py:2: SettingWithCopyWarning: \n",
      "A value is trying to be set on a copy of a slice from a DataFrame.\n",
      "Try using .loc[row_indexer,col_indexer] = value instead\n",
      "\n",
      "See the caveats in the documentation: https://pandas.pydata.org/pandas-docs/stable/user_guide/indexing.html#returning-a-view-versus-a-copy\n",
      "  dataset_no_missing_ratings['Size'] = dataset_no_missing_ratings['Size'].replace({'M': 'e6', 'K': 'e3'}, regex=True)\n",
      "C:\\Users\\abhis\\AppData\\Local\\Temp\\ipykernel_10060\\154685743.py:5: SettingWithCopyWarning: \n",
      "A value is trying to be set on a copy of a slice from a DataFrame.\n",
      "Try using .loc[row_indexer,col_indexer] = value instead\n",
      "\n",
      "See the caveats in the documentation: https://pandas.pydata.org/pandas-docs/stable/user_guide/indexing.html#returning-a-view-versus-a-copy\n",
      "  dataset_no_missing_ratings['Size'] = pd.to_numeric(dataset_no_missing_ratings['Size'], errors='coerce')\n"
     ]
    }
   ],
   "source": [
    "# Replace 'M' with 1 million and 'K' with 1 thousand in the 'Size' column\n",
    "dataset_no_missing_ratings['Size'] = dataset_no_missing_ratings['Size'].replace({'M': 'e6', 'K': 'e3'}, regex=True)\n",
    "\n",
    "# Convert the 'Size' column to numeric data type\n",
    "dataset_no_missing_ratings['Size'] = pd.to_numeric(dataset_no_missing_ratings['Size'], errors='coerce')\n",
    "\n",
    "# Drop entries where 'Size' is 'Varies with device'\n",
    "dataset_no_missing_ratings = dataset_no_missing_ratings[dataset_no_missing_ratings['Size'].notnull()]\n",
    "\n",
    "# Display the updated dataset\n",
    "print(\"Updated dataset after treating the 'Size' column:\")\n",
    "print(dataset_no_missing_ratings.head())\n"
   ]
  },
  {
   "cell_type": "markdown",
   "id": "67efb637",
   "metadata": {},
   "source": [
    "10.Check the column 'Installs', treat the unwanted characters and convert the column into a suitable data type."
   ]
  },
  {
   "cell_type": "code",
   "execution_count": 15,
   "id": "0f4aa0f9",
   "metadata": {},
   "outputs": [
    {
     "name": "stdout",
     "output_type": "stream",
     "text": [
      "Updated dataset after treating the 'Installs' column:\n",
      "                                                 App        Category  Rating  \\\n",
      "0     Photo Editor & Candy Camera & Grid & ScrapBook  ART_AND_DESIGN     4.1   \n",
      "1                                Coloring book moana  ART_AND_DESIGN     3.9   \n",
      "2  U Launcher Lite – FREE Live Cool Themes, Hide ...  ART_AND_DESIGN     4.7   \n",
      "3                              Sketch - Draw & Paint  ART_AND_DESIGN     4.5   \n",
      "4              Pixel Draw - Number Art Coloring Book  ART_AND_DESIGN     4.3   \n",
      "\n",
      "    Reviews        Size  Installs  Type Price Content Rating  \\\n",
      "0     159.0  19000000.0     10000  Free     0       Everyone   \n",
      "1     967.0  14000000.0    500000  Free     0       Everyone   \n",
      "2   87510.0   8700000.0   5000000  Free     0       Everyone   \n",
      "3  215644.0  25000000.0  50000000  Free     0           Teen   \n",
      "4     967.0   2800000.0    100000  Free     0       Everyone   \n",
      "\n",
      "                      Genres      Last Updated         Current Ver  \\\n",
      "0               Art & Design   January 7, 2018               1.0.0   \n",
      "1  Art & Design;Pretend Play  January 15, 2018               2.0.0   \n",
      "2               Art & Design    August 1, 2018               1.2.4   \n",
      "3               Art & Design      June 8, 2018  Varies with device   \n",
      "4    Art & Design;Creativity     June 20, 2018                 1.1   \n",
      "\n",
      "    Android Ver Rating_category  Reviews_log  \n",
      "0  4.0.3 and up            High     5.075174  \n",
      "1  4.0.3 and up            High     6.875232  \n",
      "2  4.0.3 and up            High    11.379520  \n",
      "3    4.2 and up            High    12.281389  \n",
      "4    4.4 and up            High     6.875232  \n"
     ]
    }
   ],
   "source": [
    "# Remove unwanted characters from the 'Installs' column\n",
    "dataset_no_missing_ratings['Installs'] = dataset_no_missing_ratings['Installs'].str.replace('[^\\d]', '', regex=True)\n",
    "\n",
    "# Convert the 'Installs' column to numeric data type\n",
    "dataset_no_missing_ratings['Installs'] = pd.to_numeric(dataset_no_missing_ratings['Installs'], errors='coerce')\n",
    "\n",
    "# Display the updated dataset\n",
    "print(\"Updated dataset after treating the 'Installs' column:\")\n",
    "print(dataset_no_missing_ratings.head())\n"
   ]
  },
  {
   "cell_type": "markdown",
   "id": "02330ce6",
   "metadata": {},
   "source": [
    "11.Check the column 'Price' , remove the unwanted characters and convert the column into a suitable data type"
   ]
  },
  {
   "cell_type": "code",
   "execution_count": 16,
   "id": "f366cc72",
   "metadata": {},
   "outputs": [
    {
     "name": "stdout",
     "output_type": "stream",
     "text": [
      "Updated dataset after treating the 'Price' column:\n",
      "                                                 App        Category  Rating  \\\n",
      "0     Photo Editor & Candy Camera & Grid & ScrapBook  ART_AND_DESIGN     4.1   \n",
      "1                                Coloring book moana  ART_AND_DESIGN     3.9   \n",
      "2  U Launcher Lite – FREE Live Cool Themes, Hide ...  ART_AND_DESIGN     4.7   \n",
      "3                              Sketch - Draw & Paint  ART_AND_DESIGN     4.5   \n",
      "4              Pixel Draw - Number Art Coloring Book  ART_AND_DESIGN     4.3   \n",
      "\n",
      "    Reviews        Size  Installs  Type  Price Content Rating  \\\n",
      "0     159.0  19000000.0     10000  Free    0.0       Everyone   \n",
      "1     967.0  14000000.0    500000  Free    0.0       Everyone   \n",
      "2   87510.0   8700000.0   5000000  Free    0.0       Everyone   \n",
      "3  215644.0  25000000.0  50000000  Free    0.0           Teen   \n",
      "4     967.0   2800000.0    100000  Free    0.0       Everyone   \n",
      "\n",
      "                      Genres      Last Updated         Current Ver  \\\n",
      "0               Art & Design   January 7, 2018               1.0.0   \n",
      "1  Art & Design;Pretend Play  January 15, 2018               2.0.0   \n",
      "2               Art & Design    August 1, 2018               1.2.4   \n",
      "3               Art & Design      June 8, 2018  Varies with device   \n",
      "4    Art & Design;Creativity     June 20, 2018                 1.1   \n",
      "\n",
      "    Android Ver Rating_category  Reviews_log  \n",
      "0  4.0.3 and up            High     5.075174  \n",
      "1  4.0.3 and up            High     6.875232  \n",
      "2  4.0.3 and up            High    11.379520  \n",
      "3    4.2 and up            High    12.281389  \n",
      "4    4.4 and up            High     6.875232  \n"
     ]
    }
   ],
   "source": [
    "# Remove unwanted characters from the 'Price' column\n",
    "dataset_no_missing_ratings['Price'] = dataset_no_missing_ratings['Price'].str.replace('[^\\d.]', '', regex=True)\n",
    "\n",
    "# Convert the 'Price' column to numeric data type\n",
    "dataset_no_missing_ratings['Price'] = pd.to_numeric(dataset_no_missing_ratings['Price'], errors='coerce')\n",
    "\n",
    "# Display the updated dataset\n",
    "print(\"Updated dataset after treating the 'Price' column:\")\n",
    "print(dataset_no_missing_ratings.head())\n"
   ]
  },
  {
   "cell_type": "markdown",
   "id": "eae04c71",
   "metadata": {},
   "source": [
    "12.Drop the columns which you think redundant for the analysis.(suggestion: drop column 'rating', since we created a new feature from it (i.e. rating_category) and the columns 'App', 'Rating' ,'Genres','Last Updated', 'Current Ver','Android Ver' columns since which are redundant for our analysis)"
   ]
  },
  {
   "cell_type": "code",
   "execution_count": 17,
   "id": "aed9fccc",
   "metadata": {},
   "outputs": [
    {
     "name": "stdout",
     "output_type": "stream",
     "text": [
      "Updated dataset after dropping redundant columns:\n",
      "         Category   Reviews        Size  Installs  Type  Price Content Rating  \\\n",
      "0  ART_AND_DESIGN     159.0  19000000.0     10000  Free    0.0       Everyone   \n",
      "1  ART_AND_DESIGN     967.0  14000000.0    500000  Free    0.0       Everyone   \n",
      "2  ART_AND_DESIGN   87510.0   8700000.0   5000000  Free    0.0       Everyone   \n",
      "3  ART_AND_DESIGN  215644.0  25000000.0  50000000  Free    0.0           Teen   \n",
      "4  ART_AND_DESIGN     967.0   2800000.0    100000  Free    0.0       Everyone   \n",
      "\n",
      "  Rating_category  Reviews_log  \n",
      "0            High     5.075174  \n",
      "1            High     6.875232  \n",
      "2            High    11.379520  \n",
      "3            High    12.281389  \n",
      "4            High     6.875232  \n"
     ]
    }
   ],
   "source": [
    "# List of columns to drop\n",
    "columns_to_drop = ['App', 'Rating', 'Genres', 'Last Updated', 'Current Ver', 'Android Ver']\n",
    "\n",
    "# Drop the specified columns\n",
    "dataset_cleaned = dataset_no_missing_ratings.drop(columns=columns_to_drop)\n",
    "\n",
    "# Display the updated dataset\n",
    "print(\"Updated dataset after dropping redundant columns:\")\n",
    "print(dataset_cleaned.head())\n"
   ]
  },
  {
   "cell_type": "markdown",
   "id": "23ba17e4",
   "metadata": {},
   "source": [
    "13.Encode the categorical columns"
   ]
  },
  {
   "cell_type": "code",
   "execution_count": 18,
   "id": "ef6e4844",
   "metadata": {},
   "outputs": [
    {
     "name": "stdout",
     "output_type": "stream",
     "text": [
      "Updated dataset after one-hot encoding:\n",
      "    Reviews        Size  Installs  Price  Reviews_log  \\\n",
      "0     159.0  19000000.0     10000    0.0     5.075174   \n",
      "1     967.0  14000000.0    500000    0.0     6.875232   \n",
      "2   87510.0   8700000.0   5000000    0.0    11.379520   \n",
      "3  215644.0  25000000.0  50000000    0.0    12.281389   \n",
      "4     967.0   2800000.0    100000    0.0     6.875232   \n",
      "\n",
      "   Category_ART_AND_DESIGN  Category_AUTO_AND_VEHICLES  Category_BEAUTY  \\\n",
      "0                     True                       False            False   \n",
      "1                     True                       False            False   \n",
      "2                     True                       False            False   \n",
      "3                     True                       False            False   \n",
      "4                     True                       False            False   \n",
      "\n",
      "   Category_BOOKS_AND_REFERENCE  Category_BUSINESS  ...  Type_Free  Type_Paid  \\\n",
      "0                         False              False  ...       True      False   \n",
      "1                         False              False  ...       True      False   \n",
      "2                         False              False  ...       True      False   \n",
      "3                         False              False  ...       True      False   \n",
      "4                         False              False  ...       True      False   \n",
      "\n",
      "   Content Rating_Adults only 18+  Content Rating_Everyone  \\\n",
      "0                           False                     True   \n",
      "1                           False                     True   \n",
      "2                           False                     True   \n",
      "3                           False                    False   \n",
      "4                           False                     True   \n",
      "\n",
      "   Content Rating_Everyone 10+  Content Rating_Mature 17+  \\\n",
      "0                        False                      False   \n",
      "1                        False                      False   \n",
      "2                        False                      False   \n",
      "3                        False                      False   \n",
      "4                        False                      False   \n",
      "\n",
      "   Content Rating_Teen  Content Rating_Unrated  Rating_category_High  \\\n",
      "0                False                   False                  True   \n",
      "1                False                   False                  True   \n",
      "2                False                   False                  True   \n",
      "3                 True                   False                  True   \n",
      "4                False                   False                  True   \n",
      "\n",
      "   Rating_category_Low  \n",
      "0                False  \n",
      "1                False  \n",
      "2                False  \n",
      "3                False  \n",
      "4                False  \n",
      "\n",
      "[5 rows x 48 columns]\n"
     ]
    }
   ],
   "source": [
    "# Identify categorical columns\n",
    "categorical_columns = dataset_cleaned.select_dtypes(include=['object']).columns\n",
    "\n",
    "# Perform one-hot encoding\n",
    "dataset_encoded = pd.get_dummies(dataset_cleaned, columns=categorical_columns)\n",
    "\n",
    "# Display the updated dataset after encoding\n",
    "print(\"Updated dataset after one-hot encoding:\")\n",
    "print(dataset_encoded.head())\n"
   ]
  },
  {
   "cell_type": "markdown",
   "id": "77a7c00b",
   "metadata": {},
   "source": [
    "14.Segregate the target and independent features (Hint: Use Rating_category as the target)"
   ]
  },
  {
   "cell_type": "code",
   "execution_count": 19,
   "id": "112ad39a",
   "metadata": {},
   "outputs": [
    {
     "name": "stdout",
     "output_type": "stream",
     "text": [
      "Columns in the dataset_encoded DataFrame:\n",
      "Index(['Reviews', 'Size', 'Installs', 'Price', 'Reviews_log',\n",
      "       'Category_ART_AND_DESIGN', 'Category_AUTO_AND_VEHICLES',\n",
      "       'Category_BEAUTY', 'Category_BOOKS_AND_REFERENCE', 'Category_BUSINESS',\n",
      "       'Category_COMICS', 'Category_COMMUNICATION', 'Category_DATING',\n",
      "       'Category_EDUCATION', 'Category_ENTERTAINMENT', 'Category_EVENTS',\n",
      "       'Category_FAMILY', 'Category_FINANCE', 'Category_FOOD_AND_DRINK',\n",
      "       'Category_GAME', 'Category_HEALTH_AND_FITNESS',\n",
      "       'Category_HOUSE_AND_HOME', 'Category_LIBRARIES_AND_DEMO',\n",
      "       'Category_LIFESTYLE', 'Category_MAPS_AND_NAVIGATION',\n",
      "       'Category_MEDICAL', 'Category_NEWS_AND_MAGAZINES', 'Category_PARENTING',\n",
      "       'Category_PERSONALIZATION', 'Category_PHOTOGRAPHY',\n",
      "       'Category_PRODUCTIVITY', 'Category_SHOPPING', 'Category_SOCIAL',\n",
      "       'Category_SPORTS', 'Category_TOOLS', 'Category_TRAVEL_AND_LOCAL',\n",
      "       'Category_VIDEO_PLAYERS', 'Category_WEATHER', 'Type_Free', 'Type_Paid',\n",
      "       'Content Rating_Adults only 18+', 'Content Rating_Everyone',\n",
      "       'Content Rating_Everyone 10+', 'Content Rating_Mature 17+',\n",
      "       'Content Rating_Teen', 'Content Rating_Unrated', 'Rating_category_High',\n",
      "       'Rating_category_Low'],\n",
      "      dtype='object')\n"
     ]
    }
   ],
   "source": [
    "# Display the columns in the dataset_encoded DataFrame\n",
    "print(\"Columns in the dataset_encoded DataFrame:\")\n",
    "print(dataset_encoded.columns)\n",
    "\n"
   ]
  },
  {
   "cell_type": "code",
   "execution_count": 20,
   "id": "677ca7e7",
   "metadata": {},
   "outputs": [
    {
     "name": "stdout",
     "output_type": "stream",
     "text": [
      "\n",
      "Independent features (X):\n",
      "    Reviews        Size  Installs  Price  Reviews_log  \\\n",
      "0     159.0  19000000.0     10000    0.0     5.075174   \n",
      "1     967.0  14000000.0    500000    0.0     6.875232   \n",
      "2   87510.0   8700000.0   5000000    0.0    11.379520   \n",
      "3  215644.0  25000000.0  50000000    0.0    12.281389   \n",
      "4     967.0   2800000.0    100000    0.0     6.875232   \n",
      "\n",
      "   Category_ART_AND_DESIGN  Category_AUTO_AND_VEHICLES  Category_BEAUTY  \\\n",
      "0                     True                       False            False   \n",
      "1                     True                       False            False   \n",
      "2                     True                       False            False   \n",
      "3                     True                       False            False   \n",
      "4                     True                       False            False   \n",
      "\n",
      "   Category_BOOKS_AND_REFERENCE  Category_BUSINESS  ...  \\\n",
      "0                         False              False  ...   \n",
      "1                         False              False  ...   \n",
      "2                         False              False  ...   \n",
      "3                         False              False  ...   \n",
      "4                         False              False  ...   \n",
      "\n",
      "   Category_VIDEO_PLAYERS  Category_WEATHER  Type_Free  Type_Paid  \\\n",
      "0                   False             False       True      False   \n",
      "1                   False             False       True      False   \n",
      "2                   False             False       True      False   \n",
      "3                   False             False       True      False   \n",
      "4                   False             False       True      False   \n",
      "\n",
      "   Content Rating_Adults only 18+  Content Rating_Everyone  \\\n",
      "0                           False                     True   \n",
      "1                           False                     True   \n",
      "2                           False                     True   \n",
      "3                           False                    False   \n",
      "4                           False                     True   \n",
      "\n",
      "   Content Rating_Everyone 10+  Content Rating_Mature 17+  \\\n",
      "0                        False                      False   \n",
      "1                        False                      False   \n",
      "2                        False                      False   \n",
      "3                        False                      False   \n",
      "4                        False                      False   \n",
      "\n",
      "   Content Rating_Teen  Content Rating_Unrated  \n",
      "0                False                   False  \n",
      "1                False                   False  \n",
      "2                False                   False  \n",
      "3                 True                   False  \n",
      "4                False                   False  \n",
      "\n",
      "[5 rows x 46 columns]\n",
      "\n",
      "Target variable (y):\n",
      "0    True\n",
      "1    True\n",
      "2    True\n",
      "3    True\n",
      "4    True\n",
      "Name: Rating_category_High, dtype: bool\n"
     ]
    }
   ],
   "source": [
    "# Assuming 'Rating_category_High' is the correct column name\n",
    "# If it's 'Rating_category_Low', replace 'Rating_category_High' with 'Rating_category_Low'\n",
    "X = dataset_encoded.drop(['Rating_category_High', 'Rating_category_Low'], axis=1)\n",
    "y = dataset_encoded['Rating_category_High']  # or 'Rating_category_Low'\n",
    "\n",
    "# Display the first few rows of the independent features (X) and target variable (y)\n",
    "print(\"\\nIndependent features (X):\")\n",
    "print(X.head())\n",
    "\n",
    "print(\"\\nTarget variable (y):\")\n",
    "print(y.head())\n"
   ]
  },
  {
   "cell_type": "markdown",
   "id": "f3205d7d",
   "metadata": {},
   "source": [
    "15.Split the dataset into train and test."
   ]
  },
  {
   "cell_type": "code",
   "execution_count": 21,
   "id": "b7afb3a0",
   "metadata": {},
   "outputs": [
    {
     "name": "stdout",
     "output_type": "stream",
     "text": [
      "Shape of X_train: (5976, 46)\n",
      "Shape of X_test: (1495, 46)\n",
      "Shape of y_train: (5976,)\n",
      "Shape of y_test: (1495,)\n"
     ]
    }
   ],
   "source": [
    "from sklearn.model_selection import train_test_split\n",
    "\n",
    "# Split the dataset into training and testing sets (80% train, 20% test)\n",
    "X_train, X_test, y_train, y_test = train_test_split(X, y, test_size=0.2, random_state=42)\n",
    "\n",
    "# Display the shapes of the training and testing sets\n",
    "print(\"Shape of X_train:\", X_train.shape)\n",
    "print(\"Shape of X_test:\", X_test.shape)\n",
    "print(\"Shape of y_train:\", y_train.shape)\n",
    "print(\"Shape of y_test:\", y_test.shape)"
   ]
  },
  {
   "cell_type": "markdown",
   "id": "26c23378",
   "metadata": {},
   "source": [
    "16.Standardize the data, so that the values are within a particular range."
   ]
  },
  {
   "cell_type": "code",
   "execution_count": 22,
   "id": "ce79785a",
   "metadata": {},
   "outputs": [],
   "source": [
    "from sklearn.preprocessing import StandardScaler\n",
    "\n",
    "# Initialize the StandardScaler\n",
    "scaler = StandardScaler()\n",
    "\n",
    "# Fit and transform the scaler on the training set\n",
    "X_train_scaled = scaler.fit_transform(X_train)\n",
    "\n",
    "# Transform the test set using the same scaler\n",
    "X_test_scaled = scaler.transform(X_test)"
   ]
  },
  {
   "cell_type": "code",
   "execution_count": 23,
   "id": "91bed022",
   "metadata": {},
   "outputs": [
    {
     "name": "stdout",
     "output_type": "stream",
     "text": [
      "Scaled Training Set (X_train_scaled):\n",
      "[[-0.15801634 -0.37289252 -0.17193651 -0.06076785 -1.58951547 -0.08903448\n",
      "  -0.09092443 -0.06610407 -0.14253971  5.44482817 -0.07337288 -0.16100542\n",
      "  -0.14853483 -0.1172197  -0.11499923 -0.07103104 -0.521306   -0.18799743\n",
      "  -0.10404537 -0.38773298 -0.17773534 -0.08903448 -0.05794789 -0.19688165\n",
      "  -0.10648303 -0.20052151 -0.15769302 -0.07675457 -0.19224962 -0.18170422\n",
      "  -0.17521484 -0.15769302 -0.15260299 -0.18608073 -0.28502204 -0.14556558\n",
      "  -0.12295551 -0.07893038  0.27914526 -0.27914526 -0.01829711  0.51611045\n",
      "  -0.21583544 -0.22460684 -0.36454217 -0.01293692]\n",
      " [-0.15006269 -0.58683768 -0.15149037 -0.06076785  0.50133788 -0.08903448\n",
      "  -0.09092443 -0.06610407 -0.14253971 -0.18366052 -0.07337288 -0.16100542\n",
      "  -0.14853483 -0.1172197  -0.11499923 -0.07103104 -0.521306   -0.18799743\n",
      "  -0.10404537 -0.38773298 -0.17773534 -0.08903448 -0.05794789 -0.19688165\n",
      "  -0.10648303 -0.20052151 -0.15769302 -0.07675457 -0.19224962 -0.18170422\n",
      "  -0.17521484 -0.15769302 -0.15260299 -0.18608073 -0.28502204 -0.14556558\n",
      "   8.13302326 -0.07893038  0.27914526 -0.27914526 -0.01829711  0.51611045\n",
      "  -0.21583544 -0.22460684 -0.36454217 -0.01293692]\n",
      " [-0.1580123  -0.11615833 -0.17183631 -0.06076785 -1.38309256 -0.08903448\n",
      "  -0.09092443 -0.06610407 -0.14253971 -0.18366052 -0.07337288 -0.16100542\n",
      "   6.7324276  -0.1172197  -0.11499923 -0.07103104 -0.521306   -0.18799743\n",
      "  -0.10404537 -0.38773298 -0.17773534 -0.08903448 -0.05794789 -0.19688165\n",
      "  -0.10648303 -0.20052151 -0.15769302 -0.07675457 -0.19224962 -0.18170422\n",
      "  -0.17521484 -0.15769302 -0.15260299 -0.18608073 -0.28502204 -0.14556558\n",
      "  -0.12295551 -0.07893038  0.27914526 -0.27914526 -0.01829711 -1.93756977\n",
      "  -0.21583544  4.45222412 -0.36454217 -0.01293692]\n",
      " [-0.15800877 -0.11615833 -0.1719181  -0.06076785 -1.27936048 -0.08903448\n",
      "  -0.09092443 -0.06610407 -0.14253971  5.44482817 -0.07337288 -0.16100542\n",
      "  -0.14853483 -0.1172197  -0.11499923 -0.07103104 -0.521306   -0.18799743\n",
      "  -0.10404537 -0.38773298 -0.17773534 -0.08903448 -0.05794789 -0.19688165\n",
      "  -0.10648303 -0.20052151 -0.15769302 -0.07675457 -0.19224962 -0.18170422\n",
      "  -0.17521484 -0.15769302 -0.15260299 -0.18608073 -0.28502204 -0.14556558\n",
      "  -0.12295551 -0.07893038  0.27914526 -0.27914526 -0.01829711  0.51611045\n",
      "  -0.21583544 -0.22460684 -0.36454217 -0.01293692]\n",
      " [-0.13788415  0.0549978  -0.06969762 -0.06076785  0.75279721 -0.08903448\n",
      "  -0.09092443 -0.06610407 -0.14253971 -0.18366052 -0.07337288 -0.16100542\n",
      "  -0.14853483 -0.1172197  -0.11499923 -0.07103104 -0.521306   -0.18799743\n",
      "  -0.10404537  2.57909452 -0.17773534 -0.08903448 -0.05794789 -0.19688165\n",
      "  -0.10648303 -0.20052151 -0.15769302 -0.07675457 -0.19224962 -0.18170422\n",
      "  -0.17521484 -0.15769302 -0.15260299 -0.18608073 -0.28502204 -0.14556558\n",
      "  -0.12295551 -0.07893038  0.27914526 -0.27914526 -0.01829711 -1.93756977\n",
      "  -0.21583544  4.45222412 -0.36454217 -0.01293692]]\n",
      "\n",
      "Scaled Test Set (X_test_scaled):\n",
      "[[ 0.56494402  1.50982486  0.85047071 -0.06076785  1.72266143 -0.08903448\n",
      "  -0.09092443 -0.06610407 -0.14253971 -0.18366052 -0.07337288 -0.16100542\n",
      "  -0.14853483 -0.1172197  -0.11499923 -0.07103104 -0.521306   -0.18799743\n",
      "  -0.10404537  2.57909452 -0.17773534 -0.08903448 -0.05794789 -0.19688165\n",
      "  -0.10648303 -0.20052151 -0.15769302 -0.07675457 -0.19224962 -0.18170422\n",
      "  -0.17521484 -0.15769302 -0.15260299 -0.18608073 -0.28502204 -0.14556558\n",
      "  -0.12295551 -0.07893038  0.27914526 -0.27914526 -0.01829711  0.51611045\n",
      "  -0.21583544 -0.22460684 -0.36454217 -0.01293692]\n",
      " [-0.0537816  -0.11615833  0.0325433  -0.06076785  1.1981186  -0.08903448\n",
      "  -0.09092443 -0.06610407 -0.14253971 -0.18366052 -0.07337288 -0.16100542\n",
      "  -0.14853483  8.53098926 -0.11499923 -0.07103104 -0.521306   -0.18799743\n",
      "  -0.10404537 -0.38773298 -0.17773534 -0.08903448 -0.05794789 -0.19688165\n",
      "  -0.10648303 -0.20052151 -0.15769302 -0.07675457 -0.19224962 -0.18170422\n",
      "  -0.17521484 -0.15769302 -0.15260299 -0.18608073 -0.28502204 -0.14556558\n",
      "  -0.12295551 -0.07893038  0.27914526 -0.27914526 -0.01829711 -1.93756977\n",
      "   4.63315933 -0.22460684 -0.36454217 -0.01293692]\n",
      " [-0.02307231 -0.93342883  0.0325433  -0.06076785  1.26805302 -0.08903448\n",
      "  -0.09092443 -0.06610407 -0.14253971 -0.18366052 -0.07337288 -0.16100542\n",
      "  -0.14853483 -0.1172197  -0.11499923 -0.07103104 -0.521306   -0.18799743\n",
      "  -0.10404537 -0.38773298 -0.17773534 -0.08903448 -0.05794789 -0.19688165\n",
      "  -0.10648303 -0.20052151 -0.15769302 -0.07675457 -0.19224962  5.50344966\n",
      "  -0.17521484 -0.15769302 -0.15260299 -0.18608073 -0.28502204 -0.14556558\n",
      "  -0.12295551 -0.07893038  0.27914526 -0.27914526 -0.01829711  0.51611045\n",
      "  -0.21583544 -0.22460684 -0.36454217 -0.01293692]\n",
      " [-0.09380926 -0.68953135  0.0325433  -0.06076785  1.06689056 -0.08903448\n",
      "  -0.09092443 -0.06610407 -0.14253971 -0.18366052 -0.07337288 -0.16100542\n",
      "  -0.14853483 -0.1172197  -0.11499923 -0.07103104 -0.521306   -0.18799743\n",
      "  -0.10404537 -0.38773298 -0.17773534 -0.08903448 -0.05794789 -0.19688165\n",
      "  -0.10648303 -0.20052151 -0.15769302 -0.07675457 -0.19224962 -0.18170422\n",
      "  -0.17521484 -0.15769302 -0.15260299 -0.18608073  3.50850065 -0.14556558\n",
      "  -0.12295551 -0.07893038  0.27914526 -0.27914526 -0.01829711  0.51611045\n",
      "  -0.21583544 -0.22460684 -0.36454217 -0.01293692]\n",
      " [-0.10955354  1.50982486 -0.15149037 -0.06076785  0.99070171 -0.08903448\n",
      "  -0.09092443 -0.06610407 -0.14253971 -0.18366052 -0.07337288 -0.16100542\n",
      "  -0.14853483 -0.1172197  -0.11499923 -0.07103104 -0.521306   -0.18799743\n",
      "  -0.10404537  2.57909452 -0.17773534 -0.08903448 -0.05794789 -0.19688165\n",
      "  -0.10648303 -0.20052151 -0.15769302 -0.07675457 -0.19224962 -0.18170422\n",
      "  -0.17521484 -0.15769302 -0.15260299 -0.18608073 -0.28502204 -0.14556558\n",
      "  -0.12295551 -0.07893038  0.27914526 -0.27914526 -0.01829711 -1.93756977\n",
      "  -0.21583544 -0.22460684  2.74316684 -0.01293692]]\n"
     ]
    }
   ],
   "source": [
    "# Display the first few rows of the scaled training set\n",
    "print(\"Scaled Training Set (X_train_scaled):\")\n",
    "print(X_train_scaled[:5, :])  # Displaying the first 5 rows\n",
    "\n",
    "# Display the first few rows of the scaled test set\n",
    "print(\"\\nScaled Test Set (X_test_scaled):\")\n",
    "print(X_test_scaled[:5, :])  # Displaying the first 5 rows\n"
   ]
  },
  {
   "cell_type": "code",
   "execution_count": 24,
   "id": "e5d306a3",
   "metadata": {},
   "outputs": [
    {
     "name": "stdout",
     "output_type": "stream",
     "text": [
      "Scaled Training Set (X_train_scaled):\n",
      "    Reviews      Size  Installs     Price  Reviews_log  \\\n",
      "0 -0.158016 -0.372893 -0.171937 -0.060768    -1.589515   \n",
      "1 -0.150063 -0.586838 -0.151490 -0.060768     0.501338   \n",
      "2 -0.158012 -0.116158 -0.171836 -0.060768    -1.383093   \n",
      "3 -0.158009 -0.116158 -0.171918 -0.060768    -1.279360   \n",
      "4 -0.137884  0.054998 -0.069698 -0.060768     0.752797   \n",
      "\n",
      "   Category_ART_AND_DESIGN  Category_AUTO_AND_VEHICLES  Category_BEAUTY  \\\n",
      "0                -0.089034                   -0.090924        -0.066104   \n",
      "1                -0.089034                   -0.090924        -0.066104   \n",
      "2                -0.089034                   -0.090924        -0.066104   \n",
      "3                -0.089034                   -0.090924        -0.066104   \n",
      "4                -0.089034                   -0.090924        -0.066104   \n",
      "\n",
      "   Category_BOOKS_AND_REFERENCE  Category_BUSINESS  ...  \\\n",
      "0                      -0.14254           5.444828  ...   \n",
      "1                      -0.14254          -0.183661  ...   \n",
      "2                      -0.14254          -0.183661  ...   \n",
      "3                      -0.14254           5.444828  ...   \n",
      "4                      -0.14254          -0.183661  ...   \n",
      "\n",
      "   Category_VIDEO_PLAYERS  Category_WEATHER  Type_Free  Type_Paid  \\\n",
      "0               -0.122956          -0.07893   0.279145  -0.279145   \n",
      "1                8.133023          -0.07893   0.279145  -0.279145   \n",
      "2               -0.122956          -0.07893   0.279145  -0.279145   \n",
      "3               -0.122956          -0.07893   0.279145  -0.279145   \n",
      "4               -0.122956          -0.07893   0.279145  -0.279145   \n",
      "\n",
      "   Content Rating_Adults only 18+  Content Rating_Everyone  \\\n",
      "0                       -0.018297                  0.51611   \n",
      "1                       -0.018297                  0.51611   \n",
      "2                       -0.018297                 -1.93757   \n",
      "3                       -0.018297                  0.51611   \n",
      "4                       -0.018297                 -1.93757   \n",
      "\n",
      "   Content Rating_Everyone 10+  Content Rating_Mature 17+  \\\n",
      "0                    -0.215835                  -0.224607   \n",
      "1                    -0.215835                  -0.224607   \n",
      "2                    -0.215835                   4.452224   \n",
      "3                    -0.215835                  -0.224607   \n",
      "4                    -0.215835                   4.452224   \n",
      "\n",
      "   Content Rating_Teen  Content Rating_Unrated  \n",
      "0            -0.364542               -0.012937  \n",
      "1            -0.364542               -0.012937  \n",
      "2            -0.364542               -0.012937  \n",
      "3            -0.364542               -0.012937  \n",
      "4            -0.364542               -0.012937  \n",
      "\n",
      "[5 rows x 46 columns]\n",
      "\n",
      "Scaled Test Set (X_test_scaled):\n",
      "    Reviews      Size  Installs     Price  Reviews_log  \\\n",
      "0  0.564944  1.509825  0.850471 -0.060768     1.722661   \n",
      "1 -0.053782 -0.116158  0.032543 -0.060768     1.198119   \n",
      "2 -0.023072 -0.933429  0.032543 -0.060768     1.268053   \n",
      "3 -0.093809 -0.689531  0.032543 -0.060768     1.066891   \n",
      "4 -0.109554  1.509825 -0.151490 -0.060768     0.990702   \n",
      "\n",
      "   Category_ART_AND_DESIGN  Category_AUTO_AND_VEHICLES  Category_BEAUTY  \\\n",
      "0                -0.089034                   -0.090924        -0.066104   \n",
      "1                -0.089034                   -0.090924        -0.066104   \n",
      "2                -0.089034                   -0.090924        -0.066104   \n",
      "3                -0.089034                   -0.090924        -0.066104   \n",
      "4                -0.089034                   -0.090924        -0.066104   \n",
      "\n",
      "   Category_BOOKS_AND_REFERENCE  Category_BUSINESS  ...  \\\n",
      "0                      -0.14254          -0.183661  ...   \n",
      "1                      -0.14254          -0.183661  ...   \n",
      "2                      -0.14254          -0.183661  ...   \n",
      "3                      -0.14254          -0.183661  ...   \n",
      "4                      -0.14254          -0.183661  ...   \n",
      "\n",
      "   Category_VIDEO_PLAYERS  Category_WEATHER  Type_Free  Type_Paid  \\\n",
      "0               -0.122956          -0.07893   0.279145  -0.279145   \n",
      "1               -0.122956          -0.07893   0.279145  -0.279145   \n",
      "2               -0.122956          -0.07893   0.279145  -0.279145   \n",
      "3               -0.122956          -0.07893   0.279145  -0.279145   \n",
      "4               -0.122956          -0.07893   0.279145  -0.279145   \n",
      "\n",
      "   Content Rating_Adults only 18+  Content Rating_Everyone  \\\n",
      "0                       -0.018297                  0.51611   \n",
      "1                       -0.018297                 -1.93757   \n",
      "2                       -0.018297                  0.51611   \n",
      "3                       -0.018297                  0.51611   \n",
      "4                       -0.018297                 -1.93757   \n",
      "\n",
      "   Content Rating_Everyone 10+  Content Rating_Mature 17+  \\\n",
      "0                    -0.215835                  -0.224607   \n",
      "1                     4.633159                  -0.224607   \n",
      "2                    -0.215835                  -0.224607   \n",
      "3                    -0.215835                  -0.224607   \n",
      "4                    -0.215835                  -0.224607   \n",
      "\n",
      "   Content Rating_Teen  Content Rating_Unrated  \n",
      "0            -0.364542               -0.012937  \n",
      "1            -0.364542               -0.012937  \n",
      "2            -0.364542               -0.012937  \n",
      "3            -0.364542               -0.012937  \n",
      "4             2.743167               -0.012937  \n",
      "\n",
      "[5 rows x 46 columns]\n"
     ]
    }
   ],
   "source": [
    "# Create DataFrames for the scaled training and test sets\n",
    "df_train_scaled = pd.DataFrame(X_train_scaled, columns=X_train.columns)\n",
    "df_test_scaled = pd.DataFrame(X_test_scaled, columns=X_test.columns)\n",
    "\n",
    "# Display the first few rows of the scaled training set\n",
    "print(\"Scaled Training Set (X_train_scaled):\")\n",
    "print(df_train_scaled.head())\n",
    "\n",
    "# Display the first few rows of the scaled test set\n",
    "print(\"\\nScaled Test Set (X_test_scaled):\")\n",
    "print(df_test_scaled.head())"
   ]
  },
  {
   "cell_type": "code",
   "execution_count": null,
   "id": "068b362f",
   "metadata": {},
   "outputs": [],
   "source": []
  }
 ],
 "metadata": {
  "kernelspec": {
   "display_name": "Python 3 (ipykernel)",
   "language": "python",
   "name": "python3"
  },
  "language_info": {
   "codemirror_mode": {
    "name": "ipython",
    "version": 3
   },
   "file_extension": ".py",
   "mimetype": "text/x-python",
   "name": "python",
   "nbconvert_exporter": "python",
   "pygments_lexer": "ipython3",
   "version": "3.11.5"
  },
  "varInspector": {
   "cols": {
    "lenName": 16,
    "lenType": 16,
    "lenVar": 40
   },
   "kernels_config": {
    "python": {
     "delete_cmd_postfix": "",
     "delete_cmd_prefix": "del ",
     "library": "var_list.py",
     "varRefreshCmd": "print(var_dic_list())"
    },
    "r": {
     "delete_cmd_postfix": ") ",
     "delete_cmd_prefix": "rm(",
     "library": "var_list.r",
     "varRefreshCmd": "cat(var_dic_list()) "
    }
   },
   "types_to_exclude": [
    "module",
    "function",
    "builtin_function_or_method",
    "instance",
    "_Feature"
   ],
   "window_display": false
  }
 },
 "nbformat": 4,
 "nbformat_minor": 5
}
